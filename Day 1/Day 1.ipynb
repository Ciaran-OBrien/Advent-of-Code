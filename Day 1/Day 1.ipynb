{
 "cells": [
  {
   "cell_type": "markdown",
   "metadata": {},
   "source": [
    "### For example, if the device displays frequency changes of +1, -2, +3, +1, then starting from a frequency of zero, the following changes would occur:\n",
    "\n",
    "Current frequency  0, change of +1; resulting frequency  1.\n",
    "\n",
    "Current frequency  1, change of -2; resulting frequency -1.\n",
    "\n",
    "Current frequency -1, change of +3; resulting frequency  2.\n",
    "\n",
    "Current frequency  2, change of +1; resulting frequency  3.\n",
    "\n",
    "In this example, the resulting frequency is 3.\n",
    "\n",
    "\n",
    "### Here are other example situations:\n",
    "\n",
    "+1, +1, +1 results in  3\n",
    "\n",
    "+1, +1, -2 results in  0\n",
    "\n",
    "-1, -2, -3 results in -6\n",
    "\n",
    "### Starting with a frequency of zero, what is the resulting frequency after all of the changes in frequency have been applied?"
   ]
  },
  {
   "cell_type": "code",
   "execution_count": 3,
   "metadata": {},
   "outputs": [],
   "source": [
    "inputLines = [line.strip() for line in open(\"input.txt\", 'r')]"
   ]
  },
  {
   "cell_type": "code",
   "execution_count": 4,
   "metadata": {},
   "outputs": [
    {
     "data": {
      "text/plain": [
       "'+16'"
      ]
     },
     "execution_count": 4,
     "metadata": {},
     "output_type": "execute_result"
    }
   ],
   "source": [
    "inputLines[0]"
   ]
  },
  {
   "cell_type": "code",
   "execution_count": 5,
   "metadata": {},
   "outputs": [],
   "source": [
    "def calculateNextFrequency(currentFreq, nextFreq):\n",
    "    returnFrequency = 0\n",
    "    if(nextFreq[0] == '-'):\n",
    "        returnFrequency = currentFreq - int(nextFreq.strip('-'))\n",
    "    elif(nextFreq[0] == '+'):\n",
    "        returnFrequency = currentFreq + int(nextFreq.strip('+'))\n",
    "    else:\n",
    "        raise ValueError(\"Missing the change in frequency\") \n",
    "    #print(\"Current: \",currentFreq,\"\\nNext: \",nextFreq,\"\\nReturning:\",returnFrequency)\n",
    "    return returnFrequency"
   ]
  },
  {
   "cell_type": "code",
   "execution_count": 6,
   "metadata": {},
   "outputs": [],
   "source": [
    "restultingFreq = 0\n",
    "for freqs in inputLines:\n",
    "    restultingFreq = calculateNextFrequency(restultingFreq,freqs)"
   ]
  },
  {
   "cell_type": "code",
   "execution_count": 7,
   "metadata": {},
   "outputs": [
    {
     "data": {
      "text/plain": [
       "439"
      ]
     },
     "execution_count": 7,
     "metadata": {},
     "output_type": "execute_result"
    }
   ],
   "source": [
    "restultingFreq"
   ]
  },
  {
   "cell_type": "code",
   "execution_count": null,
   "metadata": {},
   "outputs": [],
   "source": []
  }
 ],
 "metadata": {
  "kernelspec": {
   "display_name": "Python 3",
   "language": "python",
   "name": "python3"
  },
  "language_info": {
   "codemirror_mode": {
    "name": "ipython",
    "version": 3
   },
   "file_extension": ".py",
   "mimetype": "text/x-python",
   "name": "python",
   "nbconvert_exporter": "python",
   "pygments_lexer": "ipython3",
   "version": "3.5.4"
  }
 },
 "nbformat": 4,
 "nbformat_minor": 2
}
