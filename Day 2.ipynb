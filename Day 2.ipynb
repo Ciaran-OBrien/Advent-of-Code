{
 "cells": [
  {
   "cell_type": "code",
   "execution_count": null,
   "metadata": {},
   "outputs": [],
   "source": []
  },
  {
   "cell_type": "code",
   "execution_count": 56,
   "metadata": {},
   "outputs": [],
   "source": [
    "# Read in the data from Day1\n",
    "inputLines = [line.strip() for line in open(\"Data/day1.txt\", 'r')]"
   ]
  },
  {
   "cell_type": "code",
   "execution_count": 57,
   "metadata": {},
   "outputs": [],
   "source": [
    "# FXN takes the previously calculated frequency value and the next Frequency value from the input list as paramters\n",
    "# Returns the next calculated frequency\n",
    "def calculateNextFrequency(currentFreq, nextFreq):\n",
    "    returnFrequency = 0\n",
    "    try:\n",
    "        if(nextFreq[0] == '-'):\n",
    "            returnFrequency = currentFreq - int(nextFreq.strip('-'))\n",
    "        elif(nextFreq[0] == '+'):\n",
    "            returnFrequency = currentFreq + int(nextFreq.strip('+'))\n",
    "    except TypeError:\n",
    "        returnFrequency = currentFreq + nextFreq\n",
    "        #returnFrequency = currentFreq + int(nextFreq)\n",
    "        #raise ValueError(\"Missing the change in frequency\") \n",
    "    print(\"Current: \",currentFreq,\"\\nNext: \",nextFreq,\"\\nReturning:\",returnFrequency)\n",
    "    return returnFrequency"
   ]
  },
  {
   "cell_type": "code",
   "execution_count": 58,
   "metadata": {},
   "outputs": [],
   "source": [
    "def getFreqList(inputList,listings):\n",
    "    restultingFreq = 0\n",
    "    duplicateDict = 0\n",
    "    length = len(inputLines)\n",
    "    returnListFreq = []\n",
    "    for index,currentFreq in enumerate(inputList):\n",
    "        restultingFreq = calculateNextFrequency(listings[index],currentFreq)\n",
    "        listings.append(restultingFreq)\n",
    "        returnListFreq.append(restultingFreq)\n",
    "    return returnListFreq"
   ]
  },
  {
   "cell_type": "code",
   "execution_count": 12,
   "metadata": {},
   "outputs": [],
   "source": [
    "def anydup(thelist):\n",
    "    seen = []\n",
    "    for x in thelist:\n",
    "        #print(x)\n",
    "        if x in seen: return True,seen[-1]\n",
    "        seen.append(x)\n",
    "    return False"
   ]
  },
  {
   "cell_type": "code",
   "execution_count": 67,
   "metadata": {},
   "outputs": [],
   "source": [
    "def main():\n",
    "    path = \"Data/day1.txt\"\n",
    "    frequency_drift = 0\n",
    "    previous_sum = set()\n",
    "    loop = True\n",
    "    previous_sum.add(0)\n",
    "    while loop:\n",
    "        for line in open(path):\n",
    "            line = line.replace(\"\\n\", \"\")\n",
    "            frequency_drift += int(line)\n",
    "            if frequency_drift in previous_sum:\n",
    "                loop = False\n",
    "                break\n",
    "            else:\n",
    "                previous_sum.add(frequency_drift)\n",
    "    print(frequency_drift)"
   ]
  },
  {
   "cell_type": "code",
   "execution_count": 69,
   "metadata": {},
   "outputs": [
    {
     "name": "stdout",
     "output_type": "stream",
     "text": [
      "124645\n"
     ]
    }
   ],
   "source": [
    "main()"
   ]
  },
  {
   "cell_type": "code",
   "execution_count": 70,
   "metadata": {},
   "outputs": [],
   "source": [
    "def anyDuplicates(Lines):\n",
    "    duplicate = 0\n",
    "    previous_lines = set()\n",
    "    while loop:\n",
    "        for line in Lines:\n",
    "            line = line.replace(\"\\n\", \"\")\n",
    "            duplicate += int(line)\n",
    "            if duplicate in previous_lines:\n",
    "                loop = False\n",
    "                break\n",
    "            else:\n",
    "                previous_lines.add(duplicate)\n",
    "    return duplicate"
   ]
  },
  {
   "cell_type": "code",
   "execution_count": null,
   "metadata": {},
   "outputs": [],
   "source": [
    "an"
   ]
  }
 ],
 "metadata": {
  "kernelspec": {
   "display_name": "Python 3",
   "language": "python",
   "name": "python3"
  },
  "language_info": {
   "codemirror_mode": {
    "name": "ipython",
    "version": 3
   },
   "file_extension": ".py",
   "mimetype": "text/x-python",
   "name": "python",
   "nbconvert_exporter": "python",
   "pygments_lexer": "ipython3",
   "version": "3.5.4"
  }
 },
 "nbformat": 4,
 "nbformat_minor": 2
}
