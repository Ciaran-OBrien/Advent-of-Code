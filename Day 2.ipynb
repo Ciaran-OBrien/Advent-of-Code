{
 "cells": [
  {
   "cell_type": "markdown",
   "metadata": {},
   "source": [
    "# Day 1 Part 2\n",
    "\n",
    "### Outline\n",
    "\n",
    "Same as previous day, except we must now find the first duplicating frequency.\n",
    "Multiple interations of the input may be required"
   ]
  },
  {
   "cell_type": "code",
   "execution_count": 74,
   "metadata": {},
   "outputs": [],
   "source": [
    "# Read in the data from Day1\n",
    "inputLines = [line.strip() for line in open(\"Data/day1.txt\", 'r')]"
   ]
  },
  {
   "cell_type": "code",
   "execution_count": 75,
   "metadata": {},
   "outputs": [],
   "source": [
    "def anyDuplicates(Lines):\n",
    "    duplicate = 0\n",
    "    previous_lines = set()\n",
    "    loop = True\n",
    "    while loop:\n",
    "        for line in Lines:\n",
    "            line = line.replace(\"\\n\", \"\")\n",
    "            duplicate += int(line)\n",
    "            if duplicate in previous_lines:\n",
    "                loop = False\n",
    "                break\n",
    "            else:\n",
    "                previous_lines.add(duplicate)\n",
    "    return duplicate"
   ]
  },
  {
   "cell_type": "code",
   "execution_count": 76,
   "metadata": {},
   "outputs": [
    {
     "data": {
      "text/plain": [
       "124645"
      ]
     },
     "execution_count": 76,
     "metadata": {},
     "output_type": "execute_result"
    }
   ],
   "source": [
    "anyDuplicates(inputLines)"
   ]
  },
  {
   "cell_type": "code",
   "execution_count": null,
   "metadata": {},
   "outputs": [],
   "source": []
  }
 ],
 "metadata": {
  "kernelspec": {
   "display_name": "Python 3",
   "language": "python",
   "name": "python3"
  },
  "language_info": {
   "codemirror_mode": {
    "name": "ipython",
    "version": 3
   },
   "file_extension": ".py",
   "mimetype": "text/x-python",
   "name": "python",
   "nbconvert_exporter": "python",
   "pygments_lexer": "ipython3",
   "version": "3.5.4"
  }
 },
 "nbformat": 4,
 "nbformat_minor": 2
}
